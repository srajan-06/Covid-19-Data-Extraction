{
  "nbformat": 4,
  "nbformat_minor": 0,
  "metadata": {
    "colab": {
      "provenance": []
    },
    "kernelspec": {
      "name": "python3",
      "display_name": "Python 3"
    },
    "language_info": {
      "name": "python"
    }
  },
  "cells": [
    {
      "cell_type": "code",
      "source": [
        "import csv\n",
        "import requests\n",
        "from bs4 import BeautifulSoup"
      ],
      "metadata": {
        "id": "GIdk_EOdX020"
      },
      "execution_count": 2,
      "outputs": []
    },
    {
      "cell_type": "markdown",
      "source": [
        "Creation of Beautiful-Soup objects"
      ],
      "metadata": {
        "id": "y9JGCSQcYaIo"
      }
    },
    {
      "cell_type": "code",
      "source": [
        "#Created using websites HTML and the lxml parser\n",
        "soup = BeautifulSoup(requests.get(\"https://www.worldometers.info/coronavirus/\").text,'lxml')"
      ],
      "metadata": {
        "id": "1Cp8qDTPYBvA"
      },
      "execution_count": 3,
      "outputs": []
    },
    {
      "cell_type": "markdown",
      "source": [
        "Finding the ID attribute\n"
      ],
      "metadata": {
        "id": "cv3EPm2BaMa3"
      }
    },
    {
      "cell_type": "code",
      "source": [
        "#In HTML find a table with ID attribute as main_table_countries_today\n",
        "table = soup.find(\"table\", {'id' : 'main_table_countries_today'})"
      ],
      "metadata": {
        "id": "i1IbKh9dY-FF"
      },
      "execution_count": 4,
      "outputs": []
    },
    {
      "cell_type": "markdown",
      "source": [
        "Extract heading end clean the data\n"
      ],
      "metadata": {
        "id": "a82hhzy5aSNq"
      }
    },
    {
      "cell_type": "code",
      "source": [
        "#Extract the heading which describes each column and replaces unwanted characters with an empty string\n",
        "headings = [h.text.replace('\\n','').replace('\\xa0','') for h in table.find_all('th')]  #'\\xa0' -> Deals with non breaking space\n"
      ],
      "metadata": {
        "id": "8QNn70fZZWoM"
      },
      "execution_count": 5,
      "outputs": []
    },
    {
      "cell_type": "markdown",
      "source": [
        "Find the data for all the continents across the globe\n"
      ],
      "metadata": {
        "id": "6Aut47mWbzNb"
      }
    },
    {
      "cell_type": "code",
      "source": [
        "#From the table find the rows which don't have a data-continent attribute, As we want the data of all countries not the particular continent\n",
        "rows = [r for r in table.find_all('tr') if not r.has_attr('data_continent')]"
      ],
      "metadata": {
        "id": "cghCv6UTbYAE"
      },
      "execution_count": 6,
      "outputs": []
    },
    {
      "cell_type": "markdown",
      "source": [
        "Removal of first row\n"
      ],
      "metadata": {
        "id": "uLqLdglbea4L"
      }
    },
    {
      "cell_type": "code",
      "source": [
        "#Removing first row from the rows in the table as because it is already extracted\n",
        "rows = rows[1:]"
      ],
      "metadata": {
        "id": "UGQ0xP_Tc78F"
      },
      "execution_count": 7,
      "outputs": []
    },
    {
      "cell_type": "markdown",
      "source": [
        "Creation of result list"
      ],
      "metadata": {
        "id": "mbHVMH0oe1ob"
      }
    },
    {
      "cell_type": "code",
      "source": [
        "#Creating a list which holds all the data which is later returned as a CSV file\n",
        "result = []"
      ],
      "metadata": {
        "id": "20TNMXoxeoKN"
      },
      "execution_count": 8,
      "outputs": []
    },
    {
      "cell_type": "markdown",
      "source": [
        "Appending Headings "
      ],
      "metadata": {
        "id": "o3SzAna1fLcJ"
      }
    },
    {
      "cell_type": "code",
      "source": [
        "#Adding headings to the results\n",
        "result.append(headings)"
      ],
      "metadata": {
        "id": "KNiORMWkfG1G"
      },
      "execution_count": 9,
      "outputs": []
    },
    {
      "cell_type": "markdown",
      "source": [
        "Adding the data to each row"
      ],
      "metadata": {
        "id": "K3eS16u_fntO"
      }
    },
    {
      "cell_type": "code",
      "source": [
        "#Loop over each row in the table\n",
        "for table_row in rows:\n",
        "  #Find the data which is to extracted, add it to the list called row\n",
        "  row = []\n",
        "  for data in table_row.find_all('td'):\n",
        "    if data.a is not None:\n",
        "      row.append(data.a.text)\n",
        "    else:\n",
        "      row.append(data.text)\n",
        "  #Add row to the result\n",
        "  result.append(row)"
      ],
      "metadata": {
        "id": "d7vac3VQfVLQ"
      },
      "execution_count": 10,
      "outputs": []
    },
    {
      "cell_type": "markdown",
      "source": [
        "Preperation of storage"
      ],
      "metadata": {
        "id": "dljtVXsn9MoC"
      }
    },
    {
      "cell_type": "code",
      "source": [
        "#Create and open an empty csv file named data.csv to write data to\n",
        "csv_file = open('data.csv','w',newline='')"
      ],
      "metadata": {
        "id": "IAn4-jqPgsOZ"
      },
      "execution_count": 14,
      "outputs": []
    },
    {
      "cell_type": "code",
      "source": [
        "#Create a csv file writer which will write to data.csv\n",
        "writer = csv.writer(csv_file)"
      ],
      "metadata": {
        "id": "Yc9272Xv9r2o"
      },
      "execution_count": 15,
      "outputs": []
    },
    {
      "cell_type": "markdown",
      "source": [
        "Write results to csv and strore"
      ],
      "metadata": {
        "id": "_EMLofbc-6Dw"
      }
    },
    {
      "cell_type": "code",
      "source": [
        "#Write results to csv file\n",
        "writer.writerows(result)"
      ],
      "metadata": {
        "id": "sU5euvEv-qfS"
      },
      "execution_count": 16,
      "outputs": []
    },
    {
      "cell_type": "code",
      "source": [
        "#Close the csv file for the data to be saved\n",
        "csv_file.close()"
      ],
      "metadata": {
        "id": "aqMTG2H7_J_D"
      },
      "execution_count": 17,
      "outputs": []
    },
    {
      "cell_type": "code",
      "source": [
        "import pandas as pd\n",
        "df = pd.read_csv('data.csv')\n",
        "df"
      ],
      "metadata": {
        "colab": {
          "base_uri": "https://localhost:8080/",
          "height": 557
        },
        "id": "BgCMYokc_VnV",
        "outputId": "bcd13e10-2fde-478d-90ff-a09cbb1cbd8f"
      },
      "execution_count": 18,
      "outputs": [
        {
          "output_type": "execute_result",
          "data": {
            "text/plain": [
              "      #      Country,Other   TotalCases NewCases TotalDeaths  NewDeaths  \\\n",
              "0   NaN  \\nNorth America\\n  126,479,590   +1,526   1,632,053       14.0   \n",
              "1   NaN           \\nAsia\\n  217,233,234  +25,035   1,546,037       29.0   \n",
              "2   NaN         \\nEurope\\n  249,198,019     +408   2,057,330        5.0   \n",
              "3   NaN  \\nSouth America\\n   68,671,353      NaN   1,355,254        NaN   \n",
              "4   NaN        \\nOceania\\n   14,309,454   +5,523      27,779       15.0   \n",
              "..   ..                ...          ...      ...         ...        ...   \n",
              "242 NaN             Total:   68,671,353      NaN   1,355,254        NaN   \n",
              "243 NaN             Total:   14,309,454   +5,523      27,779       15.0   \n",
              "244 NaN             Total:   12,823,105      NaN     258,762        NaN   \n",
              "245 NaN             Total:          721      NaN          15        NaN   \n",
              "246 NaN             Total:  688,715,476  +32,492   6,877,230       63.0   \n",
              "\n",
              "    TotalRecovered NewRecovered ActiveCases Serious,Critical  ... TotalTests  \\\n",
              "0      122,304,626       +1,027   2,542,911            6,313  ...        NaN   \n",
              "1      200,915,900       +9,862  14,771,297           15,626  ...        NaN   \n",
              "2      245,150,286       +9,331   1,990,403            5,870  ...        NaN   \n",
              "3       66,459,064          NaN     857,035           10,123  ...        NaN   \n",
              "4       14,137,832       +4,851     143,843               86  ...        NaN   \n",
              "..             ...          ...         ...              ...  ...        ...   \n",
              "242     66,459,064          NaN     857,035           10,123  ...        NaN   \n",
              "243     14,137,832       +4,851     143,843               86  ...        NaN   \n",
              "244     12,085,070          NaN     479,273              548  ...        NaN   \n",
              "245            706          NaN           0                0  ...        NaN   \n",
              "246    661,053,484      +25,071  20,784,762           38,566  ...        NaN   \n",
              "\n",
              "    Tests/1M pop Population          Continent 1 Caseevery X ppl  \\\n",
              "0            NaN        NaN      North America                \\n   \n",
              "1            NaN        NaN               Asia                \\n   \n",
              "2            NaN        NaN             Europe                \\n   \n",
              "3            NaN        NaN      South America                \\n   \n",
              "4            NaN        NaN  Australia/Oceania                \\n   \n",
              "..           ...        ...                ...               ...   \n",
              "242          NaN        NaN      South America                     \n",
              "243          NaN        NaN  Australia/Oceania                     \n",
              "244          NaN        NaN             Africa                     \n",
              "245          NaN        NaN                NaN                     \n",
              "246          NaN        NaN                All                \\n   \n",
              "\n",
              "    1 Deathevery X ppl 1 Testevery X ppl New Cases/1M pop  New Deaths/1M pop  \\\n",
              "0                  NaN               NaN              NaN                NaN   \n",
              "1                  NaN               NaN              NaN                NaN   \n",
              "2                  NaN               NaN              NaN                NaN   \n",
              "3                  NaN               NaN              NaN                NaN   \n",
              "4                  NaN               NaN              NaN                NaN   \n",
              "..                 ...               ...              ...                ...   \n",
              "242                NaN               NaN              NaN                NaN   \n",
              "243                NaN               NaN              NaN                NaN   \n",
              "244                NaN               NaN              NaN                NaN   \n",
              "245                NaN               NaN              NaN                NaN   \n",
              "246                NaN               NaN              NaN                NaN   \n",
              "\n",
              "     Active Cases/1M pop  \n",
              "0                    NaN  \n",
              "1                    NaN  \n",
              "2                    NaN  \n",
              "3                    NaN  \n",
              "4                    NaN  \n",
              "..                   ...  \n",
              "242                  NaN  \n",
              "243                  NaN  \n",
              "244                  NaN  \n",
              "245                  NaN  \n",
              "246                  NaN  \n",
              "\n",
              "[247 rows x 22 columns]"
            ],
            "text/html": [
              "\n",
              "  <div id=\"df-d24c993d-4e1b-4a9f-9407-eb423f95853e\">\n",
              "    <div class=\"colab-df-container\">\n",
              "      <div>\n",
              "<style scoped>\n",
              "    .dataframe tbody tr th:only-of-type {\n",
              "        vertical-align: middle;\n",
              "    }\n",
              "\n",
              "    .dataframe tbody tr th {\n",
              "        vertical-align: top;\n",
              "    }\n",
              "\n",
              "    .dataframe thead th {\n",
              "        text-align: right;\n",
              "    }\n",
              "</style>\n",
              "<table border=\"1\" class=\"dataframe\">\n",
              "  <thead>\n",
              "    <tr style=\"text-align: right;\">\n",
              "      <th></th>\n",
              "      <th>#</th>\n",
              "      <th>Country,Other</th>\n",
              "      <th>TotalCases</th>\n",
              "      <th>NewCases</th>\n",
              "      <th>TotalDeaths</th>\n",
              "      <th>NewDeaths</th>\n",
              "      <th>TotalRecovered</th>\n",
              "      <th>NewRecovered</th>\n",
              "      <th>ActiveCases</th>\n",
              "      <th>Serious,Critical</th>\n",
              "      <th>...</th>\n",
              "      <th>TotalTests</th>\n",
              "      <th>Tests/1M pop</th>\n",
              "      <th>Population</th>\n",
              "      <th>Continent</th>\n",
              "      <th>1 Caseevery X ppl</th>\n",
              "      <th>1 Deathevery X ppl</th>\n",
              "      <th>1 Testevery X ppl</th>\n",
              "      <th>New Cases/1M pop</th>\n",
              "      <th>New Deaths/1M pop</th>\n",
              "      <th>Active Cases/1M pop</th>\n",
              "    </tr>\n",
              "  </thead>\n",
              "  <tbody>\n",
              "    <tr>\n",
              "      <th>0</th>\n",
              "      <td>NaN</td>\n",
              "      <td>\\nNorth America\\n</td>\n",
              "      <td>126,479,590</td>\n",
              "      <td>+1,526</td>\n",
              "      <td>1,632,053</td>\n",
              "      <td>14.0</td>\n",
              "      <td>122,304,626</td>\n",
              "      <td>+1,027</td>\n",
              "      <td>2,542,911</td>\n",
              "      <td>6,313</td>\n",
              "      <td>...</td>\n",
              "      <td>NaN</td>\n",
              "      <td>NaN</td>\n",
              "      <td>NaN</td>\n",
              "      <td>North America</td>\n",
              "      <td>\\n</td>\n",
              "      <td>NaN</td>\n",
              "      <td>NaN</td>\n",
              "      <td>NaN</td>\n",
              "      <td>NaN</td>\n",
              "      <td>NaN</td>\n",
              "    </tr>\n",
              "    <tr>\n",
              "      <th>1</th>\n",
              "      <td>NaN</td>\n",
              "      <td>\\nAsia\\n</td>\n",
              "      <td>217,233,234</td>\n",
              "      <td>+25,035</td>\n",
              "      <td>1,546,037</td>\n",
              "      <td>29.0</td>\n",
              "      <td>200,915,900</td>\n",
              "      <td>+9,862</td>\n",
              "      <td>14,771,297</td>\n",
              "      <td>15,626</td>\n",
              "      <td>...</td>\n",
              "      <td>NaN</td>\n",
              "      <td>NaN</td>\n",
              "      <td>NaN</td>\n",
              "      <td>Asia</td>\n",
              "      <td>\\n</td>\n",
              "      <td>NaN</td>\n",
              "      <td>NaN</td>\n",
              "      <td>NaN</td>\n",
              "      <td>NaN</td>\n",
              "      <td>NaN</td>\n",
              "    </tr>\n",
              "    <tr>\n",
              "      <th>2</th>\n",
              "      <td>NaN</td>\n",
              "      <td>\\nEurope\\n</td>\n",
              "      <td>249,198,019</td>\n",
              "      <td>+408</td>\n",
              "      <td>2,057,330</td>\n",
              "      <td>5.0</td>\n",
              "      <td>245,150,286</td>\n",
              "      <td>+9,331</td>\n",
              "      <td>1,990,403</td>\n",
              "      <td>5,870</td>\n",
              "      <td>...</td>\n",
              "      <td>NaN</td>\n",
              "      <td>NaN</td>\n",
              "      <td>NaN</td>\n",
              "      <td>Europe</td>\n",
              "      <td>\\n</td>\n",
              "      <td>NaN</td>\n",
              "      <td>NaN</td>\n",
              "      <td>NaN</td>\n",
              "      <td>NaN</td>\n",
              "      <td>NaN</td>\n",
              "    </tr>\n",
              "    <tr>\n",
              "      <th>3</th>\n",
              "      <td>NaN</td>\n",
              "      <td>\\nSouth America\\n</td>\n",
              "      <td>68,671,353</td>\n",
              "      <td>NaN</td>\n",
              "      <td>1,355,254</td>\n",
              "      <td>NaN</td>\n",
              "      <td>66,459,064</td>\n",
              "      <td>NaN</td>\n",
              "      <td>857,035</td>\n",
              "      <td>10,123</td>\n",
              "      <td>...</td>\n",
              "      <td>NaN</td>\n",
              "      <td>NaN</td>\n",
              "      <td>NaN</td>\n",
              "      <td>South America</td>\n",
              "      <td>\\n</td>\n",
              "      <td>NaN</td>\n",
              "      <td>NaN</td>\n",
              "      <td>NaN</td>\n",
              "      <td>NaN</td>\n",
              "      <td>NaN</td>\n",
              "    </tr>\n",
              "    <tr>\n",
              "      <th>4</th>\n",
              "      <td>NaN</td>\n",
              "      <td>\\nOceania\\n</td>\n",
              "      <td>14,309,454</td>\n",
              "      <td>+5,523</td>\n",
              "      <td>27,779</td>\n",
              "      <td>15.0</td>\n",
              "      <td>14,137,832</td>\n",
              "      <td>+4,851</td>\n",
              "      <td>143,843</td>\n",
              "      <td>86</td>\n",
              "      <td>...</td>\n",
              "      <td>NaN</td>\n",
              "      <td>NaN</td>\n",
              "      <td>NaN</td>\n",
              "      <td>Australia/Oceania</td>\n",
              "      <td>\\n</td>\n",
              "      <td>NaN</td>\n",
              "      <td>NaN</td>\n",
              "      <td>NaN</td>\n",
              "      <td>NaN</td>\n",
              "      <td>NaN</td>\n",
              "    </tr>\n",
              "    <tr>\n",
              "      <th>...</th>\n",
              "      <td>...</td>\n",
              "      <td>...</td>\n",
              "      <td>...</td>\n",
              "      <td>...</td>\n",
              "      <td>...</td>\n",
              "      <td>...</td>\n",
              "      <td>...</td>\n",
              "      <td>...</td>\n",
              "      <td>...</td>\n",
              "      <td>...</td>\n",
              "      <td>...</td>\n",
              "      <td>...</td>\n",
              "      <td>...</td>\n",
              "      <td>...</td>\n",
              "      <td>...</td>\n",
              "      <td>...</td>\n",
              "      <td>...</td>\n",
              "      <td>...</td>\n",
              "      <td>...</td>\n",
              "      <td>...</td>\n",
              "      <td>...</td>\n",
              "    </tr>\n",
              "    <tr>\n",
              "      <th>242</th>\n",
              "      <td>NaN</td>\n",
              "      <td>Total:</td>\n",
              "      <td>68,671,353</td>\n",
              "      <td>NaN</td>\n",
              "      <td>1,355,254</td>\n",
              "      <td>NaN</td>\n",
              "      <td>66,459,064</td>\n",
              "      <td>NaN</td>\n",
              "      <td>857,035</td>\n",
              "      <td>10,123</td>\n",
              "      <td>...</td>\n",
              "      <td>NaN</td>\n",
              "      <td>NaN</td>\n",
              "      <td>NaN</td>\n",
              "      <td>South America</td>\n",
              "      <td></td>\n",
              "      <td>NaN</td>\n",
              "      <td>NaN</td>\n",
              "      <td>NaN</td>\n",
              "      <td>NaN</td>\n",
              "      <td>NaN</td>\n",
              "    </tr>\n",
              "    <tr>\n",
              "      <th>243</th>\n",
              "      <td>NaN</td>\n",
              "      <td>Total:</td>\n",
              "      <td>14,309,454</td>\n",
              "      <td>+5,523</td>\n",
              "      <td>27,779</td>\n",
              "      <td>15.0</td>\n",
              "      <td>14,137,832</td>\n",
              "      <td>+4,851</td>\n",
              "      <td>143,843</td>\n",
              "      <td>86</td>\n",
              "      <td>...</td>\n",
              "      <td>NaN</td>\n",
              "      <td>NaN</td>\n",
              "      <td>NaN</td>\n",
              "      <td>Australia/Oceania</td>\n",
              "      <td></td>\n",
              "      <td>NaN</td>\n",
              "      <td>NaN</td>\n",
              "      <td>NaN</td>\n",
              "      <td>NaN</td>\n",
              "      <td>NaN</td>\n",
              "    </tr>\n",
              "    <tr>\n",
              "      <th>244</th>\n",
              "      <td>NaN</td>\n",
              "      <td>Total:</td>\n",
              "      <td>12,823,105</td>\n",
              "      <td>NaN</td>\n",
              "      <td>258,762</td>\n",
              "      <td>NaN</td>\n",
              "      <td>12,085,070</td>\n",
              "      <td>NaN</td>\n",
              "      <td>479,273</td>\n",
              "      <td>548</td>\n",
              "      <td>...</td>\n",
              "      <td>NaN</td>\n",
              "      <td>NaN</td>\n",
              "      <td>NaN</td>\n",
              "      <td>Africa</td>\n",
              "      <td></td>\n",
              "      <td>NaN</td>\n",
              "      <td>NaN</td>\n",
              "      <td>NaN</td>\n",
              "      <td>NaN</td>\n",
              "      <td>NaN</td>\n",
              "    </tr>\n",
              "    <tr>\n",
              "      <th>245</th>\n",
              "      <td>NaN</td>\n",
              "      <td>Total:</td>\n",
              "      <td>721</td>\n",
              "      <td>NaN</td>\n",
              "      <td>15</td>\n",
              "      <td>NaN</td>\n",
              "      <td>706</td>\n",
              "      <td>NaN</td>\n",
              "      <td>0</td>\n",
              "      <td>0</td>\n",
              "      <td>...</td>\n",
              "      <td>NaN</td>\n",
              "      <td>NaN</td>\n",
              "      <td>NaN</td>\n",
              "      <td>NaN</td>\n",
              "      <td></td>\n",
              "      <td>NaN</td>\n",
              "      <td>NaN</td>\n",
              "      <td>NaN</td>\n",
              "      <td>NaN</td>\n",
              "      <td>NaN</td>\n",
              "    </tr>\n",
              "    <tr>\n",
              "      <th>246</th>\n",
              "      <td>NaN</td>\n",
              "      <td>Total:</td>\n",
              "      <td>688,715,476</td>\n",
              "      <td>+32,492</td>\n",
              "      <td>6,877,230</td>\n",
              "      <td>63.0</td>\n",
              "      <td>661,053,484</td>\n",
              "      <td>+25,071</td>\n",
              "      <td>20,784,762</td>\n",
              "      <td>38,566</td>\n",
              "      <td>...</td>\n",
              "      <td>NaN</td>\n",
              "      <td>NaN</td>\n",
              "      <td>NaN</td>\n",
              "      <td>All</td>\n",
              "      <td>\\n</td>\n",
              "      <td>NaN</td>\n",
              "      <td>NaN</td>\n",
              "      <td>NaN</td>\n",
              "      <td>NaN</td>\n",
              "      <td>NaN</td>\n",
              "    </tr>\n",
              "  </tbody>\n",
              "</table>\n",
              "<p>247 rows × 22 columns</p>\n",
              "</div>\n",
              "      <button class=\"colab-df-convert\" onclick=\"convertToInteractive('df-d24c993d-4e1b-4a9f-9407-eb423f95853e')\"\n",
              "              title=\"Convert this dataframe to an interactive table.\"\n",
              "              style=\"display:none;\">\n",
              "        \n",
              "  <svg xmlns=\"http://www.w3.org/2000/svg\" height=\"24px\"viewBox=\"0 0 24 24\"\n",
              "       width=\"24px\">\n",
              "    <path d=\"M0 0h24v24H0V0z\" fill=\"none\"/>\n",
              "    <path d=\"M18.56 5.44l.94 2.06.94-2.06 2.06-.94-2.06-.94-.94-2.06-.94 2.06-2.06.94zm-11 1L8.5 8.5l.94-2.06 2.06-.94-2.06-.94L8.5 2.5l-.94 2.06-2.06.94zm10 10l.94 2.06.94-2.06 2.06-.94-2.06-.94-.94-2.06-.94 2.06-2.06.94z\"/><path d=\"M17.41 7.96l-1.37-1.37c-.4-.4-.92-.59-1.43-.59-.52 0-1.04.2-1.43.59L10.3 9.45l-7.72 7.72c-.78.78-.78 2.05 0 2.83L4 21.41c.39.39.9.59 1.41.59.51 0 1.02-.2 1.41-.59l7.78-7.78 2.81-2.81c.8-.78.8-2.07 0-2.86zM5.41 20L4 18.59l7.72-7.72 1.47 1.35L5.41 20z\"/>\n",
              "  </svg>\n",
              "      </button>\n",
              "      \n",
              "  <style>\n",
              "    .colab-df-container {\n",
              "      display:flex;\n",
              "      flex-wrap:wrap;\n",
              "      gap: 12px;\n",
              "    }\n",
              "\n",
              "    .colab-df-convert {\n",
              "      background-color: #E8F0FE;\n",
              "      border: none;\n",
              "      border-radius: 50%;\n",
              "      cursor: pointer;\n",
              "      display: none;\n",
              "      fill: #1967D2;\n",
              "      height: 32px;\n",
              "      padding: 0 0 0 0;\n",
              "      width: 32px;\n",
              "    }\n",
              "\n",
              "    .colab-df-convert:hover {\n",
              "      background-color: #E2EBFA;\n",
              "      box-shadow: 0px 1px 2px rgba(60, 64, 67, 0.3), 0px 1px 3px 1px rgba(60, 64, 67, 0.15);\n",
              "      fill: #174EA6;\n",
              "    }\n",
              "\n",
              "    [theme=dark] .colab-df-convert {\n",
              "      background-color: #3B4455;\n",
              "      fill: #D2E3FC;\n",
              "    }\n",
              "\n",
              "    [theme=dark] .colab-df-convert:hover {\n",
              "      background-color: #434B5C;\n",
              "      box-shadow: 0px 1px 3px 1px rgba(0, 0, 0, 0.15);\n",
              "      filter: drop-shadow(0px 1px 2px rgba(0, 0, 0, 0.3));\n",
              "      fill: #FFFFFF;\n",
              "    }\n",
              "  </style>\n",
              "\n",
              "      <script>\n",
              "        const buttonEl =\n",
              "          document.querySelector('#df-d24c993d-4e1b-4a9f-9407-eb423f95853e button.colab-df-convert');\n",
              "        buttonEl.style.display =\n",
              "          google.colab.kernel.accessAllowed ? 'block' : 'none';\n",
              "\n",
              "        async function convertToInteractive(key) {\n",
              "          const element = document.querySelector('#df-d24c993d-4e1b-4a9f-9407-eb423f95853e');\n",
              "          const dataTable =\n",
              "            await google.colab.kernel.invokeFunction('convertToInteractive',\n",
              "                                                     [key], {});\n",
              "          if (!dataTable) return;\n",
              "\n",
              "          const docLinkHtml = 'Like what you see? Visit the ' +\n",
              "            '<a target=\"_blank\" href=https://colab.research.google.com/notebooks/data_table.ipynb>data table notebook</a>'\n",
              "            + ' to learn more about interactive tables.';\n",
              "          element.innerHTML = '';\n",
              "          dataTable['output_type'] = 'display_data';\n",
              "          await google.colab.output.renderOutput(dataTable, element);\n",
              "          const docLink = document.createElement('div');\n",
              "          docLink.innerHTML = docLinkHtml;\n",
              "          element.appendChild(docLink);\n",
              "        }\n",
              "      </script>\n",
              "    </div>\n",
              "  </div>\n",
              "  "
            ]
          },
          "metadata": {},
          "execution_count": 18
        }
      ]
    },
    {
      "cell_type": "code",
      "source": [],
      "metadata": {
        "id": "62a5EB_R_e8A"
      },
      "execution_count": null,
      "outputs": []
    }
  ]
}